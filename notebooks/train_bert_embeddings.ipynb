{
 "cells": [
  {
   "cell_type": "code",
   "execution_count": 1,
   "id": "10c316ff-3679-4e37-bdc2-2742349ead62",
   "metadata": {
    "lines_to_next_cell": 2
   },
   "outputs": [],
   "source": [
    "from rdflib import Graph\n",
    "import sys\n",
    "g_train = Graph()\n",
    "g_val = Graph()\n",
    "\n",
    "g_train = g_train.parse('FB15k-237/train.nt', format='nt')\n",
    "g_val   = g_val.parse('FB15k-237/valid.nt', format='nt')\n",
    "import torch"
   ]
  },
  {
   "cell_type": "code",
   "execution_count": 2,
   "id": "d208d08f-a6cb-4f50-a305-31ac0a4ab75e",
   "metadata": {
    "lines_to_end_of_cell_marker": 2
   },
   "outputs": [],
   "source": [
    "import sys\n",
    "sys.path.append('../code')\n",
    "\n",
    "from settings import VECTOR_SIZE,BERT_MAXLEN,BERT_EPOCHS\n",
    "from utils_data import DataseSimpleTriple\n",
    "torch.set_num_threads(12)\n",
    "\n",
    "###\n",
    "from torch.utils.data import Dataset, DataLoader\n",
    "\n",
    "\n",
    "\n",
    "###"
   ]
  },
  {
   "cell_type": "markdown",
   "id": "db30ad24-be71-4881-84cc-46166f67e333",
   "metadata": {},
   "source": [
    "#### Use objectives from T5 https://arxiv.org/abs/1910.10683\n",
    "\n",
    "Also look at Bert paper: https://arxiv.org/abs/1810.04805\n",
    "\n",
    "First is 'Bert Style' masked language modeling. (MLM)\n",
    "\n",
    "* Corrupt 15% of input tokens. \n",
    "* 90% of the corrupted tokens are replaced with out-of-alphabet masking token\n",
    "* 10% of corrupted tokens are replaced with random tokens\n",
    "\n",
    "#### Other Sources\n",
    "\n",
    "* https://towardsdatascience.com/how-to-train-a-bert-model-from-scratch-72cfce554fc6 as example of Bert training\n",
    "* https://huggingface.co/blog/how-to-train\n",
    "* tiny bert https://arxiv.org/abs/2110.01518\n",
    "\n",
    "#### Notes\n",
    "\n",
    "* Bert: \"In contrast to denoising auto-encoders (Vincent et al., 2008), we only predict the masked words rather than reconstructing the entire input.\"\n",
    "* Which tokenizer?! BPE useful? I think not. Look at https://huggingface.co/docs/transformers/main/en/tokenizer_summary"
   ]
  },
  {
   "cell_type": "markdown",
   "id": "c39096cd-5caf-43c7-8449-d1752c72275d",
   "metadata": {},
   "source": [
    "## Construct Dataset of 'Sentences'"
   ]
  },
  {
   "cell_type": "code",
   "execution_count": 3,
   "id": "fcbf83c9-9588-40dd-8e20-596021b80da1",
   "metadata": {},
   "outputs": [],
   "source": [
    "import torch\n",
    "import numpy as np"
   ]
  },
  {
   "cell_type": "code",
   "execution_count": 4,
   "id": "256f5636-e9cc-4209-9e1b-abb54d3abce1",
   "metadata": {
    "lines_to_next_cell": 2
   },
   "outputs": [],
   "source": [
    "# Just use each triple as a sentence ...\n",
    "dataset_most_simple = [' '.join(x) for x in g_train]\n",
    "dataset_most_simple_eval = [' '.join(x) for x in g_val]"
   ]
  },
  {
   "cell_type": "code",
   "execution_count": 5,
   "id": "33cfc1c8-1ce9-4dae-b32e-461101ee4407",
   "metadata": {},
   "outputs": [
    {
     "data": {
      "text/plain": [
       "['http://example.org/m/071t0 http://example.org/olympics/olympic_sport/athletes./olympics/olympic_athlete_affiliation/country http://example.org/m/0697s',\n",
       " 'http://example.org/m/09c7w0 http://example.org/location/location/contains http://example.org/m/01hjy5',\n",
       " 'http://example.org/m/0bbm7r http://example.org/tv/tv_program/regular_cast./tv/regular_tv_appearance/actor http://example.org/m/016ywr',\n",
       " 'http://example.org/m/0257w4 http://example.org/award/award_category/winners./award/award_honor/award_winner http://example.org/m/03_0p',\n",
       " 'http://example.org/m/03hr1p http://example.org/olympics/olympic_sport/athletes./olympics/olympic_athlete_affiliation/country http://example.org/m/0jgd',\n",
       " 'http://example.org/m/06449 http://example.org/award/award_winner/awards_won./award/award_honor/award_winner http://example.org/m/0280mv7',\n",
       " 'http://example.org/m/01f5q5 http://example.org/award/award_nominee/award_nominations./award/award_nomination/award http://example.org/m/07cbcy',\n",
       " 'http://example.org/m/04knq3 http://example.org/organization/organization/headquarters./location/mailing_address/citytown http://example.org/m/07bcn',\n",
       " 'http://example.org/m/01tfck http://example.org/award/award_nominee/award_nominations./award/award_nomination/award_nominee http://example.org/m/01zg98',\n",
       " 'http://example.org/m/02zfg3 http://example.org/film/actor/film./film/performance/film http://example.org/m/0ptx_']"
      ]
     },
     "execution_count": 5,
     "metadata": {},
     "output_type": "execute_result"
    }
   ],
   "source": [
    "dataset_most_simple[0:10]"
   ]
  },
  {
   "cell_type": "markdown",
   "id": "012589a7-a947-44b0-8441-24982659bdea",
   "metadata": {},
   "source": [
    "# Define and Train Tokenizer\n",
    "It is unclear which tokenizer works. I will start with a really simple example."
   ]
  },
  {
   "cell_type": "code",
   "execution_count": 6,
   "id": "5438ed05-3cbb-490a-8d8c-5a1edc247e38",
   "metadata": {},
   "outputs": [
    {
     "name": "stderr",
     "output_type": "stream",
     "text": [
      "2023-03-05 20:33:45.045070: W tensorflow/stream_executor/platform/default/dso_loader.cc:64] Could not load dynamic library 'libcudart.so.11.0'; dlerror: libcudart.so.11.0: cannot open shared object file: No such file or directory\n",
      "2023-03-05 20:33:45.045087: I tensorflow/stream_executor/cuda/cudart_stub.cc:29] Ignore above cudart dlerror if you do not have a GPU set up on your machine.\n"
     ]
    }
   ],
   "source": [
    "import transformers"
   ]
  },
  {
   "cell_type": "code",
   "execution_count": 7,
   "id": "4600f102-bdad-4038-9f7b-8fc2194e263c",
   "metadata": {},
   "outputs": [],
   "source": [
    "from tokenizers.models import WordLevel\n",
    "from tokenizers import Tokenizer\n",
    "from transformers import BertTokenizer, EncoderDecoderModel, BertForTokenClassification\n",
    "from tokenizers.pre_tokenizers import WhitespaceSplit\n",
    "from tokenizers.trainers import WordLevelTrainer\n",
    "from tokenizers.processors import BertProcessing\n",
    "from transformers import BertConfig, BertModel, AutoModel\n",
    "import copy\n",
    "from collections import defaultdict\n",
    "import torchmetrics\n",
    "\n",
    "from tqdm import tqdm, trange"
   ]
  },
  {
   "cell_type": "code",
   "execution_count": 8,
   "id": "fdd0a5b5-e096-4fa6-86c3-ea0156a9d5f8",
   "metadata": {},
   "outputs": [
    {
     "data": {
      "text/plain": [
       "{'unk_token': '[UNK]',\n",
       " 'sep_token': '[SEP]',\n",
       " 'pad_token': '[PAD]',\n",
       " 'cls_token': '[CLS]',\n",
       " 'mask_token': '[MASK]'}"
      ]
     },
     "execution_count": 8,
     "metadata": {},
     "output_type": "execute_result"
    }
   ],
   "source": [
    "tz = BertTokenizer.from_pretrained(\"bert-base-cased\")\n",
    "special_tokens_map = tz.special_tokens_map_extended\n",
    "special_tokens_map"
   ]
  },
  {
   "cell_type": "code",
   "execution_count": 9,
   "id": "94e8e41a-cbac-4a58-8520-a14b22123946",
   "metadata": {
    "lines_to_next_cell": 2
   },
   "outputs": [],
   "source": [
    "from torch.utils.data import Dataset, DataLoader\n",
    "\n"
   ]
  },
  {
   "cell_type": "code",
   "execution_count": 10,
   "id": "18b6494d-262d-4e1d-9072-147eeab95368",
   "metadata": {},
   "outputs": [],
   "source": [
    "dataset_simple = DataseSimpleTriple(dataset_most_simple,special_tokens_map)\n",
    "dataset_simple_eval = DataseSimpleTriple(dataset_most_simple_eval,special_tokens_map)\n",
    "tz = dataset_simple.get_tokenizer()\n",
    "\n",
    "\n"
   ]
  },
  {
   "cell_type": "code",
   "execution_count": 11,
   "id": "746f764f-9522-4e56-9fa4-3e6583fe3483",
   "metadata": {},
   "outputs": [
    {
     "data": {
      "text/plain": [
       "(tensor([[   3,    0],\n",
       "         [ 594,    0],\n",
       "         [  48,    0],\n",
       "         [3864,    0],\n",
       "         [   1,    0]]),\n",
       " tensor([1., 1., 1., 1., 1.]),\n",
       " tensor([   3,  594,   48, 3864,    1]))"
      ]
     },
     "execution_count": 11,
     "metadata": {},
     "output_type": "execute_result"
    }
   ],
   "source": [
    "dataset_simple[0]"
   ]
  },
  {
   "cell_type": "markdown",
   "id": "187eff82-054d-4586-81a7-9e38d766d551",
   "metadata": {},
   "source": [
    "# Setup Model"
   ]
  },
  {
   "cell_type": "code",
   "execution_count": 12,
   "id": "50ca609f-229b-45df-8908-c2c0ed636c10",
   "metadata": {},
   "outputs": [
    {
     "name": "stderr",
     "output_type": "stream",
     "text": [
      "Some weights of the model checkpoint at prajjwal1/bert-tiny were not used when initializing BertModel: ['cls.seq_relationship.weight', 'cls.predictions.decoder.weight', 'cls.predictions.decoder.bias', 'cls.predictions.transform.LayerNorm.weight', 'cls.predictions.transform.dense.bias', 'cls.predictions.bias', 'cls.seq_relationship.bias', 'cls.predictions.transform.dense.weight', 'cls.predictions.transform.LayerNorm.bias']\n",
      "- This IS expected if you are initializing BertModel from the checkpoint of a model trained on another task or with another architecture (e.g. initializing a BertForSequenceClassification model from a BertForPreTraining model).\n",
      "- This IS NOT expected if you are initializing BertModel from the checkpoint of a model that you expect to be exactly identical (initializing a BertForSequenceClassification model from a BertForSequenceClassification model).\n"
     ]
    }
   ],
   "source": [
    "tiny_pretrained = AutoModel.from_pretrained('prajjwal1/bert-tiny')\n",
    "tiny_config = tiny_pretrained.config\n",
    "tiny_config._name_or_path=\"otautz/tiny\"\n",
    "\n",
    "encoder_config = copy.copy(tiny_config)\n",
    "encoder_config.is_decoder = False\n",
    "encoder_config.add_cross_attention = False\n",
    "encoder_config.num_labels=tz.get_vocab_size()\n",
    "encoder_config.hidden_size = VECTOR_SIZE\n",
    "encoder_config.max_position_embeddings = BERT_MAXLEN\n",
    "del tiny_pretrained"
   ]
  },
  {
   "cell_type": "code",
   "execution_count": 13,
   "id": "952ccc35-e47c-4ba0-a1c4-b5fb920efc30",
   "metadata": {},
   "outputs": [],
   "source": [
    "device = torch.device('cuda' if torch.cuda.is_available() else 'cpu')\n",
    "tiny_encoder  = BertForTokenClassification(encoder_config)\n",
    "tiny_encoder  = tiny_encoder.to(device)\n",
    "lossF = torch.nn.CrossEntropyLoss()\n",
    "dl = DataLoader(dataset_simple,batch_size=5000,shuffle=True,pin_memory=True)\n",
    "dl_eval =  DataLoader(dataset_simple_eval, batch_size=5000, shuffle=False, pin_memory=True)\n",
    "optimizer = torch.optim.Adam(tiny_encoder.parameters())"
   ]
  },
  {
   "cell_type": "code",
   "execution_count": 14,
   "id": "796742dc-d633-464e-85f0-f6e8cd6b6a16",
   "metadata": {
    "tags": []
   },
   "outputs": [
    {
     "name": "stderr",
     "output_type": "stream",
     "text": [
      "100%|████████████████████████████████████████████████████████████████████████████████████████████████| 5/5 [31:03<00:00, 372.76s/it]\n"
     ]
    }
   ],
   "source": [
    "loss_metric = torchmetrics.aggregation.MeanMetric().to(device)\n",
    "batchloss_metric = torchmetrics.aggregation.CatMetric().to(device)\n",
    "batchloss_metric_eval = torchmetrics.aggregation.CatMetric().to(device)\n",
    "history = defaultdict(list)\n",
    "\n",
    "#for ep in trange(BERT_EPOCHS):\n",
    "for epochs in trange(5):\n",
    "    for inputs, batch_mask, batch_labels in dl:\n",
    "        tiny_encoder.train()\n",
    "        optimizer.zero_grad()\n",
    "        batch_id = inputs[:,:,0]\n",
    "        \n",
    "        out = tiny_encoder.forward(batch_id.to(device), batch_mask.to(device))\n",
    "        logits = out.logits\n",
    "\n",
    "        # (batchsize, sequence_len, no_labels)\n",
    "        logits_shape = logits.shape\n",
    "\n",
    "        # (batchsize * sequence_len, no_labels)\n",
    "        logits_no_sequence =  logits.reshape(logits_shape[0]*logits_shape[1],logits_shape[2])\n",
    "\n",
    "        # (batchsize)\n",
    "        batch_labels_no_sequence = batch_labels.flatten().to(device)\n",
    "        \n",
    "        batch_mask = (inputs[:,:,1]>0).flatten().to(device)\n",
    "\n",
    "        loss= lossF(logits_no_sequence[batch_mask],batch_labels_no_sequence[batch_mask])\n",
    "\n",
    "        loss.backward()\n",
    "        optimizer.step()\n",
    "        \n",
    "        loss_metric(loss.detach())\n",
    "        batchloss_metric(loss.detach())\n",
    "    \n",
    "    history['loss'].append(loss_metric.compute().detach().item())\n",
    "    loss_metric.reset()\n",
    "    with torch.no_grad():\n",
    "        tiny_encoder.eval()\n",
    "        for inputs, batch_mask, batch_labels in dl_eval:\n",
    "                        optimizer.zero_grad()\n",
    "                        batch_id = inputs[:, :, 0]\n",
    "\n",
    "                        out = tiny_encoder.forward(batch_id.to(device), batch_mask.to(device))\n",
    "                        logits = out.logits\n",
    "\n",
    "                        # (batchsize, sequence_len, no_labels)\n",
    "                        logits_shape = logits.shape\n",
    "\n",
    "                        # (batchsize * sequence_len, no_labels)\n",
    "                        logits_no_sequence = logits.reshape(logits_shape[0] * logits_shape[1], logits_shape[2])\n",
    "\n",
    "                        # (batchsize)\n",
    "                        batch_labels_no_sequence = batch_labels.flatten().to(device)\n",
    "\n",
    "                        batch_mask = (inputs[:, :, 1] > 0).flatten().to(device)\n",
    "\n",
    "                        loss = lossF(logits_no_sequence[batch_mask], batch_labels_no_sequence[batch_mask])\n",
    "\n",
    "                        loss_metric(loss.detach())\n",
    "                        batchloss_metric_eval(loss.detach())\n",
    "\n",
    "        history['loss_eval'].append(loss_metric.compute().detach().item())\n",
    "        loss_metric.reset()    \n",
    "    "
   ]
  },
  {
   "cell_type": "code",
   "execution_count": 15,
   "id": "a7e6c550-9fc7-466b-a554-0aac8a175d89",
   "metadata": {},
   "outputs": [
    {
     "data": {
      "text/plain": [
       "<AxesSubplot:>"
      ]
     },
     "execution_count": 15,
     "metadata": {},
     "output_type": "execute_result"
    },
    {
     "data": {
      "image/png": "[encoded data removed]",
      "text/plain": [
       "<Figure size 432x288 with 1 Axes>"
      ]
     },
     "metadata": {
      "needs_background": "light"
     },
     "output_type": "display_data"
    }
   ],
   "source": [
    "import pandas as pd\n",
    "pd.DataFrame(history).to_csv('bert_loss_eval.csv')\n",
    "pl = pd.DataFrame(history).plot()\n",
    "pl.figure.savefig('loss_eval_loss.pdf')"
   ]
  },
  {
   "cell_type": "code",
   "execution_count": 16,
   "id": "0dbbff9f-b0b8-4052-b839-d0bc3a9abedb",
   "metadata": {},
   "outputs": [
    {
     "data": {
      "text/plain": [
       "<AxesSubplot:>"
      ]
     },
     "execution_count": 16,
     "metadata": {},
     "output_type": "execute_result"
    },
    {
     "data": {
      "image/png": "[encoded data removed]",
      "text/plain": [
       "<Figure size 432x288 with 1 Axes>"
      ]
     },
     "metadata": {
      "needs_background": "light"
     },
     "output_type": "display_data"
    }
   ],
   "source": [
    "pd.DataFrame(batchloss_metric.compute().detach().cpu()).to_csv('bert_batchloss.csv')\n",
    "pl = pd.DataFrame(batchloss_metric.compute().detach().cpu()).plot()\n",
    "pl.figure.savefig('batchloss.pdf')"
   ]
  },
  {
   "cell_type": "code",
   "execution_count": 17,
   "id": "36af7df5-3422-460b-a4a4-63d329ccdcb9",
   "metadata": {},
   "outputs": [
    {
     "data": {
      "text/plain": [
       "<AxesSubplot:>"
      ]
     },
     "execution_count": 17,
     "metadata": {},
     "output_type": "execute_result"
    },
    {
     "data": {
      "image/png": "[encoded data removed]",
      "text/plain": [
       "<Figure size 432x288 with 1 Axes>"
      ]
     },
     "metadata": {
      "needs_background": "light"
     },
     "output_type": "display_data"
    }
   ],
   "source": [
    "pd.DataFrame(batchloss_metric_eval.compute().detach().cpu()).to_csv('bert_batchloss_eval.csv')\n",
    "pl = pd.DataFrame(batchloss_metric_eval.compute().detach().cpu()).plot()\n",
    "pl.figure.savefig('batchloss_eval.pdf')\n",
    "# # Save pretrained"
   ]
  },
  {
   "cell_type": "code",
   "execution_count": 18,
   "id": "d8496164-3f74-419e-8d15-ddb115aaa874",
   "metadata": {},
   "outputs": [],
   "source": [
    "tiny_encoder.save_pretrained(\"tiny_bert_from_scratch_simple_eval\")\n",
    "tz.save('tiny_bert_from_scratch_simple_tokenizer_eval.json')"
   ]
  },
  {
   "cell_type": "markdown",
   "id": "8fa58de1-609e-4387-9793-7ce79a2339e3",
   "metadata": {},
   "source": [
    "# Test Loading"
   ]
  },
  {
   "cell_type": "code",
   "execution_count": 19,
   "id": "0ed1af77-d7c2-4a6b-b08f-f077a088732d",
   "metadata": {
    "tags": []
   },
   "outputs": [
    {
     "name": "stderr",
     "output_type": "stream",
     "text": [
      "Some weights of the model checkpoint at tiny_bert_from_scratch_simple_eval were not used when initializing BertModel: ['classifier.bias', 'classifier.weight']\n",
      "- This IS expected if you are initializing BertModel from the checkpoint of a model trained on another task or with another architecture (e.g. initializing a BertForSequenceClassification model from a BertForPreTraining model).\n",
      "- This IS NOT expected if you are initializing BertModel from the checkpoint of a model that you expect to be exactly identical (initializing a BertForSequenceClassification model from a BertForSequenceClassification model).\n",
      "Some weights of BertModel were not initialized from the model checkpoint at tiny_bert_from_scratch_simple_eval and are newly initialized: ['bert.pooler.dense.weight', 'bert.pooler.dense.bias']\n",
      "You should probably TRAIN this model on a down-stream task to be able to use it for predictions and inference.\n"
     ]
    }
   ],
   "source": [
    "model = AutoModel.from_pretrained('tiny_bert_from_scratch_simple_eval')\n",
    "tz = Tokenizer(WordLevel(unk_token=special_tokens_map['unk_token']))"
   ]
  },
  {
   "cell_type": "code",
   "execution_count": 20,
   "id": "9cdc376a-0594-48dc-aabb-6eea8b9f703d",
   "metadata": {},
   "outputs": [],
   "source": [
    "from transformers import PreTrainedTokenizerFast"
   ]
  },
  {
   "cell_type": "code",
   "execution_count": 21,
   "id": "ce550ac9-4b39-4997-89f9-6215e059c128",
   "metadata": {},
   "outputs": [],
   "source": [
    "tz = PreTrainedTokenizerFast(tokenizer_file='tiny_bert_from_scratch_simple_tokenizer_eval.json')"
   ]
  },
  {
   "cell_type": "code",
   "execution_count": 22,
   "id": "0c4af4da-3282-47d1-9591-5039b7049300",
   "metadata": {},
   "outputs": [],
   "source": [
    "test = dataset_most_simple[0]\n",
    "test = tz.encode(test)"
   ]
  },
  {
   "cell_type": "code",
   "execution_count": 23,
   "id": "ae2bdefc-873e-43c9-8403-4d54efc61435",
   "metadata": {},
   "outputs": [
    {
     "data": {
      "text/plain": [
       "tensor([   3,  594,   48, 3864,    1])"
      ]
     },
     "execution_count": 23,
     "metadata": {},
     "output_type": "execute_result"
    }
   ],
   "source": [
    "torch.tensor(test)"
   ]
  },
  {
   "cell_type": "code",
   "execution_count": 24,
   "id": "c5a89556-38d0-492f-a969-75583cfc566b",
   "metadata": {},
   "outputs": [
    {
     "data": {
      "text/plain": [
       "torch.Size([5, 128])"
      ]
     },
     "execution_count": 24,
     "metadata": {},
     "output_type": "execute_result"
    }
   ],
   "source": [
    "model(torch.tensor(test).unsqueeze(0))['last_hidden_state'].squeeze().shape"
   ]
  },
  {
   "cell_type": "code",
   "execution_count": 25,
   "id": "74e1e8bc-7699-40c3-bfbf-60c656e96f8f",
   "metadata": {},
   "outputs": [],
   "source": [
    "from utils_graph import get_entities"
   ]
  },
  {
   "cell_type": "code",
   "execution_count": 26,
   "id": "f25237e3-236c-4429-8be4-82b9626b11c8",
   "metadata": {},
   "outputs": [],
   "source": [
    "def get_embeddings(entities,bert_model,tokenizer):\n",
    "    entities = [tokenizer.encode(x) for x in np.array(entities)]\n",
    "    embeddings = model(torch.tensor(entities))\n",
    "    embeddings = embeddings['last_hidden_state'][:,1]\n",
    "    return embeddings"
   ]
  },
  {
   "cell_type": "code",
   "execution_count": 27,
   "id": "5aa26831-b95d-4124-8894-5c02dffeacdd",
   "metadata": {},
   "outputs": [],
   "source": [
    "entities = get_entities([g_train])"
   ]
  },
  {
   "cell_type": "code",
   "execution_count": 28,
   "id": "c3ce3a79-31e5-4ed3-9d05-eb1d09c6f585",
   "metadata": {
    "tags": []
   },
   "outputs": [],
   "source": [
    "embs = get_embeddings(entities,model,tz)"
   ]
  },
  {
   "cell_type": "code",
   "execution_count": 29,
   "id": "44826028-6ef2-47da-9afd-d92d28dcde5c",
   "metadata": {},
   "outputs": [
    {
     "data": {
      "text/plain": [
       "torch.Size([14505, 128])"
      ]
     },
     "execution_count": 29,
     "metadata": {},
     "output_type": "execute_result"
    }
   ],
   "source": [
    "embs.shape"
   ]
  }
 ],
 "metadata": {
  "jupytext": {
   "formats": "ipynb,py:light"
  },
  "kernelspec": {
   "display_name": "stdpy",
   "language": "python",
   "name": "stdpy"
  },
  "language_info": {
   "codemirror_mode": {
    "name": "ipython",
    "version": 3
   },
   "file_extension": ".py",
   "mimetype": "text/x-python",
   "name": "python",
   "nbconvert_exporter": "python",
   "pygments_lexer": "ipython3",
   "version": "3.10.10"
  }
 },
 "nbformat": 4,
 "nbformat_minor": 5
}
