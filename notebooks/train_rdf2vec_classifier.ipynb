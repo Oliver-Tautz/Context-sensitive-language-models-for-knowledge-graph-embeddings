{
 "cells": [
  {
   "cell_type": "markdown",
   "id": "b868c6eb",
   "metadata": {},
   "source": [
    "## Download and check rdf2vec"
   ]
  },
  {
   "cell_type": "code",
   "execution_count": 1,
   "id": "edae41f5-8379-478a-80b4-8703c94916fa",
   "metadata": {},
   "outputs": [],
   "source": [
    "import sys\n",
    "sys.path.append('../code')"
   ]
  },
  {
   "cell_type": "code",
   "execution_count": 2,
   "id": "0fc76250-32fe-4c2d-b7bb-055e51eb8517",
   "metadata": {},
   "outputs": [],
   "source": [
    "from settings import VECTOR_SIZE, CLASSIFIER_EPOCHS\n",
    "TRAIN_RDF2VEC = False"
   ]
  },
  {
   "cell_type": "markdown",
   "id": "03668c20-1e42-4e1a-9ad2-10a3ed35ab08",
   "metadata": {},
   "source": [
    "# Load Dataset and Train rdf2vec"
   ]
  },
  {
   "cell_type": "code",
   "execution_count": 3,
   "id": "cedde669-b1bd-47ea-a998-0cda25372b33",
   "metadata": {},
   "outputs": [],
   "source": [
    "if TRAIN_RDF2VEC:\n",
    "    import subprocess\n",
    "    subprocess.run(\"python code/train_jrdf2vec.py\".split())"
   ]
  },
  {
   "cell_type": "markdown",
   "id": "6d06e7fd",
   "metadata": {},
   "source": [
    "## Parse Graph"
   ]
  },
  {
   "cell_type": "code",
   "execution_count": 4,
   "id": "2e64f1c7",
   "metadata": {},
   "outputs": [],
   "source": [
    "from rdflib import Graph, URIRef\n",
    "\n",
    "\n",
    "\n",
    "g_train = Graph()\n",
    "g_val = Graph()\n",
    "g_test = Graph()\n",
    "\n",
    "g_train = g_train.parse('FB15k-237/train.nt', format='nt')\n",
    "g_val   = g_val.parse('FB15k-237/valid.nt', format='nt')\n",
    "g_test  = g_test.parse('FB15k-237/test.nt', format='nt')\n"
   ]
  },
  {
   "cell_type": "code",
   "execution_count": 5,
   "id": "6584c95a-e344-40e4-b11a-18a88c78c723",
   "metadata": {},
   "outputs": [],
   "source": [
    "from gensim.models import Word2Vec\n",
    "\n",
    "\n",
    "word_vectors = Word2Vec.load('walks/model').wv"
   ]
  },
  {
   "cell_type": "code",
   "execution_count": 6,
   "id": "f4329f3e-554b-44a2-95e4-786016a3fb7a",
   "metadata": {},
   "outputs": [
    {
     "name": "stderr",
     "output_type": "stream",
     "text": [
      "/home/otautz/miniconda3/lib/python3.9/site-packages/tqdm/auto.py:22: TqdmWarning: IProgress not found. Please update jupyter and ipywidgets. See https://ipywidgets.readthedocs.io/en/stable/user_install.html\n",
      "  from .autonotebook import tqdm as notebook_tqdm\n"
     ]
    },
    {
     "name": "stdout",
     "output_type": "stream",
     "text": [
      "removed 270 triples from training set\n",
      "removed 35 triples from validation set\n",
      "removed 61 triples from test set\n"
     ]
    }
   ],
   "source": [
    "from utils_graph import clean_graph,get_entities\n",
    "# clean graphs \n",
    "# number of triples removed should be low, a few hundred\n",
    "print(f\"removed {clean_graph(g_train,word_vectors)} triples from training set\")\n",
    "print(f\"removed {clean_graph(g_val,word_vectors)} triples from validation set\")\n",
    "print(f\"removed {clean_graph(g_test,word_vectors)} triples from test set\")\n",
    "\n",
    "entities = get_entities((g_train,g_val,g_test))"
   ]
  },
  {
   "cell_type": "code",
   "execution_count": 7,
   "id": "0810bf13-53a4-4829-b1af-6137f2e2029e",
   "metadata": {},
   "outputs": [
    {
     "name": "stderr",
     "output_type": "stream",
     "text": [
      "100%|██████████| 100/100 [28:00<00:00, 16.80s/it]\n"
     ]
    }
   ],
   "source": [
    "from pathlib import Path\n",
    "import pandas as pd\n",
    "import torch\n",
    "import torchmetrics\n",
    "from models import ClassifierSimple\n",
    "from utils_train import fit_1_1\n",
    "model = ClassifierSimple()    \n",
    "\n",
    "device = torch.device('cuda' if torch.cuda.is_available() else 'cpu')\n",
    "if Path('rdf2vecClassfier.pth').is_file():\n",
    "    print('found trained model! Loading :)')\n",
    "    model.load_state_dict(torch.load('rdf2vecClassfier.pth'))\n",
    "    history = pd.read_csv(\"rdf2vec_log.csv\")\n",
    "    model = model.to(device)\n",
    "else:\n",
    "    model = model.to(device)\n",
    "    model,history = fit_1_1(model,g_train,lambda x: word_vectors[x],3000,entities,metrics = {'acc' :torchmetrics.classification.Accuracy()},graph_eval=g_val,epochs=CLASSIFIER_EPOCHS)\n",
    "    model.eval()\n",
    "    torch.save(model.state_dict(),'rdf2vecClassfier.pth')\n",
    "    pd.DataFrame(history).to_csv(\"rdf2vec_log.csv\")"
   ]
  },
  {
   "cell_type": "code",
   "execution_count": 8,
   "id": "a9146392-993f-4e0b-b7c3-3de01e6dab85",
   "metadata": {},
   "outputs": [
    {
     "data": {
      "text/plain": [
       "<AxesSubplot:>"
      ]
     },
     "execution_count": 8,
     "metadata": {},
     "output_type": "execute_result"
    },
    {
     "data": {
      "image/png": "[encoded data removed]",
      "text/plain": [
       "<Figure size 432x288 with 1 Axes>"
      ]
     },
     "metadata": {
      "needs_background": "light"
     },
     "output_type": "display_data"
    }
   ],
   "source": [
    "pd.DataFrame(history)[['acc','acc_val']].plot()"
   ]
  },
  {
   "cell_type": "code",
   "execution_count": 9,
   "id": "43aeb8f0-2e43-470e-862a-e8f1cabb22ca",
   "metadata": {},
   "outputs": [
    {
     "data": {
      "text/plain": [
       "<AxesSubplot:>"
      ]
     },
     "execution_count": 9,
     "metadata": {},
     "output_type": "execute_result"
    },
    {
     "data": {
      "image/png": "[encoded data removed]",
      "text/plain": [
       "<Figure size 432x288 with 1 Axes>"
      ]
     },
     "metadata": {
      "needs_background": "light"
     },
     "output_type": "display_data"
    }
   ],
   "source": [
    "pd.DataFrame(history)[['loss','loss_val']].plot()"
   ]
  }
 ],
 "metadata": {
  "jupytext": {
   "formats": "ipynb,auto:percent"
  },
  "kernelspec": {
   "display_name": "stdpy_new",
   "language": "python",
   "name": "stdpy_new"
  },
  "language_info": {
   "codemirror_mode": {
    "name": "ipython",
    "version": 3
   },
   "file_extension": ".py",
   "mimetype": "text/x-python",
   "name": "python",
   "nbconvert_exporter": "python",
   "pygments_lexer": "ipython3",
   "version": "3.11.3"
  }
 },
 "nbformat": 4,
 "nbformat_minor": 5
}
