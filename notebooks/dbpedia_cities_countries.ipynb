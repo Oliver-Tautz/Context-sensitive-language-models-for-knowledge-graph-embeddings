{
 "cells": [
  {
   "cell_type": "code",
   "execution_count": 1,
   "id": "ba385f60-495e-4cda-9531-cd4c3be6eb14",
   "metadata": {},
   "outputs": [],
   "source": [
    "import numpy as np\n",
    "from tqdm import tqdm"
   ]
  },
  {
   "cell_type": "code",
   "execution_count": 2,
   "id": "36529f22-2ab6-4309-a766-4837959deda5",
   "metadata": {},
   "outputs": [],
   "source": [
    "file = \"LP_transe_epochs=100embs.txt\"\n",
    "embedding_size = 50\n",
    "\n",
    "f = open(f\"/home/olli/gits/Better_Knowledge_Graph_Embeddings/Evaluation-Framework/{file}\",'r')\n",
    "lines = f.readlines()\n",
    "f.close()"
   ]
  },
  {
   "cell_type": "code",
   "execution_count": 3,
   "id": "41dd3745-03c3-4045-9e68-0d7cf6497aaf",
   "metadata": {},
   "outputs": [],
   "source": [
    "filterfile =  open(\"/home/olli/gits/Better_Knowledge_Graph_Embeddings/Evaluation-Framework/relevant_entities_clean.txt\",'r')\n",
    "relevant_entities = set([x.strip() for x in filterfile.readlines()])\n",
    "f.close()"
   ]
  },
  {
   "cell_type": "code",
   "execution_count": 4,
   "id": "2a8d1e97-db02-4431-8002-c9cd51e9e73d",
   "metadata": {},
   "outputs": [],
   "source": [
    "ents = []\n",
    "vecs = []\n",
    "\n",
    "for l in lines:\n",
    "    l = l.split()\n",
    "    ents.append(l[0])\n",
    "    vecs.append(np.array(l[1:]))"
   ]
  },
  {
   "cell_type": "code",
   "execution_count": 5,
   "id": "51aa3ad3-9fcc-4ed3-96e7-29bda2ad6acb",
   "metadata": {},
   "outputs": [],
   "source": [
    "unclean_mask = []\n",
    "for i,(v,e)  in enumerate(zip(vecs,ents)):\n",
    "    if v.shape != (embedding_size,) or e not in relevant_entities:\n",
    "        unclean_mask.append(i)    "
   ]
  },
  {
   "cell_type": "code",
   "execution_count": 6,
   "id": "668a2594-0e52-49d6-919b-fbdcc5718dc2",
   "metadata": {},
   "outputs": [],
   "source": [
    "unclean_mask.reverse() "
   ]
  },
  {
   "cell_type": "code",
   "execution_count": 7,
   "id": "c8e0aedd-4d95-483b-87c2-aa88314c10fe",
   "metadata": {},
   "outputs": [],
   "source": [
    "for i in unclean_mask:\n",
    "    vecs.pop(i)\n",
    "    ents.pop(i)"
   ]
  },
  {
   "cell_type": "code",
   "execution_count": 8,
   "id": "7ff53735-142c-4290-98e2-87dbfa0d06fe",
   "metadata": {},
   "outputs": [],
   "source": [
    "vecs = np.stack(vecs)\n",
    "ents = np.array(ents)"
   ]
  },
  {
   "cell_type": "code",
   "execution_count": 9,
   "id": "97e5c3c2-f029-45c3-9dfc-8974f01558d9",
   "metadata": {},
   "outputs": [
    {
     "data": {
      "text/plain": [
       "array(['http://dbpedia.org/resource/(a)spera',\n",
       "       'http://dbpedia.org/resource/...Burn,_Piano_Island,_Burn',\n",
       "       'http://dbpedia.org/resource/100_Days,_100_Nights', ...,\n",
       "       'http://dbpedia.org/resource/Youngstown_State_University',\n",
       "       'http://dbpedia.org/resource/Your_Future_Our_Clutter',\n",
       "       'http://dbpedia.org/resource/Yours_Truly,_Angry_Mob'], dtype='<U93')"
      ]
     },
     "execution_count": 9,
     "metadata": {},
     "output_type": "execute_result"
    }
   ],
   "source": [
    "ents"
   ]
  },
  {
   "cell_type": "code",
   "execution_count": 10,
   "id": "edc511bb-6de1-40a0-a505-2df77bf42de0",
   "metadata": {},
   "outputs": [],
   "source": [
    "from SPARQLWrapper import SPARQLWrapper, JSON"
   ]
  },
  {
   "cell_type": "code",
   "execution_count": 11,
   "id": "28239a96-2680-487d-8dcd-bfbfac796b3d",
   "metadata": {},
   "outputs": [],
   "source": [
    "get_all_cities = \"\"\"\n",
    "SELECT DISTINCT ?city WHERE {\n",
    "     ?city  <http://www.w3.org/1999/02/22-rdf-syntax-ns#type> <http://dbpedia.org/ontology/Country> \n",
    "\n",
    "}\n",
    "\n",
    "\n",
    "\"\"\""
   ]
  },
  {
   "cell_type": "code",
   "execution_count": 12,
   "id": "cf1db761-40b2-44f2-bfd6-e4ba89a4ab87",
   "metadata": {},
   "outputs": [],
   "source": [
    "sparql = SPARQLWrapper(\"http://dbpedia.org/sparql\")\n",
    "sparql.setQuery(get_all_cities)\n",
    "sparql.setReturnFormat(JSON)\n",
    "results = sparql.query().convert()\n"
   ]
  },
  {
   "cell_type": "code",
   "execution_count": 13,
   "id": "ba4cc2e6-7e78-465d-8e52-1b74146985fe",
   "metadata": {},
   "outputs": [],
   "source": [
    "cities = set()\n",
    "for result in results['results']['bindings']:\n",
    "    cities.add(result['city']['value'])"
   ]
  },
  {
   "cell_type": "code",
   "execution_count": 14,
   "id": "c9b67a6c-368c-45b5-80fc-62e2ae29e898",
   "metadata": {},
   "outputs": [],
   "source": [
    "city_boolean_mask = np.array([c in cities for c in ents])\n",
    "city_ix = np.where(city_boolean_mask)[0]"
   ]
  },
  {
   "cell_type": "code",
   "execution_count": 15,
   "id": "036b25e2-850d-42de-aa8d-6a07c04e375c",
   "metadata": {},
   "outputs": [
    {
     "data": {
      "text/plain": [
       "10000"
      ]
     },
     "execution_count": 15,
     "metadata": {},
     "output_type": "execute_result"
    }
   ],
   "source": [
    "len(cities)"
   ]
  },
  {
   "cell_type": "code",
   "execution_count": 16,
   "id": "78ede6d3-a0a4-4f2c-a683-01dfbe569efb",
   "metadata": {},
   "outputs": [],
   "source": [
    "country_query = \"\"\"\n",
    "SELECT ?country WHERE {\n",
    "<%s> <http://dbpedia.org/ontology/capital> ?country\n",
    "}\n",
    "\"\"\"\n"
   ]
  },
  {
   "cell_type": "code",
   "execution_count": 17,
   "id": "e6dace48-9582-49ab-82b3-38a05db78221",
   "metadata": {},
   "outputs": [],
   "source": [
    "country_queries = [country_query % c for c in ents[city_boolean_mask]]"
   ]
  },
  {
   "cell_type": "code",
   "execution_count": 18,
   "id": "13ea091f-7b12-4a2a-aa5b-0bd246689b9d",
   "metadata": {
    "scrolled": true
   },
   "outputs": [
    {
     "name": "stderr",
     "output_type": "stream",
     "text": [
      "100%|███████████████████████████████████████████████████████████████████████████████████████████████████████████████████████████████████████████████████████████████████████████████████████████████████████████████████████████████████████| 119/119 [00:23<00:00,  5.08it/s]\n"
     ]
    }
   ],
   "source": [
    "# save this because api slow!\n",
    "countries = []\n",
    "for q in tqdm(country_queries):\n",
    "    sparql.setQuery(q)\n",
    "    countries.append(sparql.query().convert())\n"
   ]
  },
  {
   "cell_type": "code",
   "execution_count": 19,
   "id": "31d1516d-d20e-487e-a03e-189eb3f0e450",
   "metadata": {},
   "outputs": [],
   "source": [
    "for i,c in enumerate(countries):\n",
    "    try:\n",
    "        countries[i] = c['results']['bindings'][0]['country']['value']\n",
    "    except:\n",
    "        countries[i] = None"
   ]
  },
  {
   "cell_type": "code",
   "execution_count": 20,
   "id": "28442393-18e3-43f6-9251-2f7c23a1f199",
   "metadata": {
    "scrolled": true
   },
   "outputs": [
    {
     "name": "stdout",
     "output_type": "stream",
     "text": [
      "http://dbpedia.org/resource/Afghanistan http://dbpedia.org/resource/Kabul\n",
      "http://dbpedia.org/resource/Albania http://dbpedia.org/resource/Tirana\n",
      "http://dbpedia.org/resource/Algeria http://dbpedia.org/resource/Algiers\n",
      "http://dbpedia.org/resource/Angola http://dbpedia.org/resource/Luanda\n",
      "http://dbpedia.org/resource/Argentina http://dbpedia.org/resource/Buenos_Aires\n",
      "http://dbpedia.org/resource/Armenia http://dbpedia.org/resource/Yerevan\n",
      "http://dbpedia.org/resource/Australia http://dbpedia.org/resource/Canberra\n",
      "http://dbpedia.org/resource/Austria http://dbpedia.org/resource/Vienna\n",
      "http://dbpedia.org/resource/Azerbaijan http://dbpedia.org/resource/Baku\n",
      "http://dbpedia.org/resource/Bahrain http://dbpedia.org/resource/Manama\n",
      "http://dbpedia.org/resource/Bangladesh http://dbpedia.org/resource/Dhaka\n",
      "http://dbpedia.org/resource/Belarus http://dbpedia.org/resource/Minsk\n",
      "http://dbpedia.org/resource/Belgium http://dbpedia.org/resource/City_of_Brussels\n",
      "http://dbpedia.org/resource/Belize http://dbpedia.org/resource/Belmopan\n",
      "http://dbpedia.org/resource/Bhutan http://dbpedia.org/resource/Thimphu\n",
      "http://dbpedia.org/resource/Botswana http://dbpedia.org/resource/Gaborone\n",
      "http://dbpedia.org/resource/Brasília None\n",
      "http://dbpedia.org/resource/Brazil http://dbpedia.org/resource/Brasília\n",
      "http://dbpedia.org/resource/Bulgaria http://dbpedia.org/resource/Sofia\n",
      "http://dbpedia.org/resource/Burundi http://dbpedia.org/resource/Gitega\n",
      "http://dbpedia.org/resource/Cambodia http://dbpedia.org/resource/Phnom_Penh\n",
      "http://dbpedia.org/resource/Canada http://dbpedia.org/resource/Ottawa\n",
      "http://dbpedia.org/resource/Chile http://dbpedia.org/resource/Santiago\n",
      "http://dbpedia.org/resource/China http://dbpedia.org/resource/Beijing\n",
      "http://dbpedia.org/resource/Croatia http://dbpedia.org/resource/Zagreb\n",
      "http://dbpedia.org/resource/Cuba http://dbpedia.org/resource/Havana\n",
      "http://dbpedia.org/resource/Cyprus http://dbpedia.org/resource/Nicosia\n",
      "http://dbpedia.org/resource/Denmark None\n",
      "http://dbpedia.org/resource/Djibouti http://dbpedia.org/resource/Djibouti_(city)\n",
      "http://dbpedia.org/resource/Dominica http://dbpedia.org/resource/Roseau\n",
      "http://dbpedia.org/resource/Ecuador http://dbpedia.org/resource/Quito\n",
      "http://dbpedia.org/resource/Egypt http://dbpedia.org/resource/Cairo\n",
      "http://dbpedia.org/resource/England None\n",
      "http://dbpedia.org/resource/Eritrea http://dbpedia.org/resource/Asmara\n",
      "http://dbpedia.org/resource/Estonia http://dbpedia.org/resource/Tallinn\n",
      "http://dbpedia.org/resource/Europe None\n",
      "http://dbpedia.org/resource/Fiji http://dbpedia.org/resource/Suva\n",
      "http://dbpedia.org/resource/Finland http://dbpedia.org/resource/Helsinki\n",
      "http://dbpedia.org/resource/France http://dbpedia.org/resource/Paris\n",
      "http://dbpedia.org/resource/Gabon http://dbpedia.org/resource/Libreville\n",
      "http://dbpedia.org/resource/Germany http://dbpedia.org/resource/Berlin\n",
      "http://dbpedia.org/resource/Ghana http://dbpedia.org/resource/Accra\n",
      "http://dbpedia.org/resource/Greece http://dbpedia.org/resource/Athens\n",
      "http://dbpedia.org/resource/Greenland None\n",
      "http://dbpedia.org/resource/Guinea http://dbpedia.org/resource/Conakry\n",
      "http://dbpedia.org/resource/Guyana http://dbpedia.org/resource/Georgetown,_Guyana\n",
      "http://dbpedia.org/resource/Hawaii None\n",
      "http://dbpedia.org/resource/Honduras http://dbpedia.org/resource/Tegucigalpa\n",
      "http://dbpedia.org/resource/Hong_Kong None\n",
      "http://dbpedia.org/resource/Hungary http://dbpedia.org/resource/Budapest\n",
      "http://dbpedia.org/resource/Iran http://dbpedia.org/resource/Tehran\n",
      "http://dbpedia.org/resource/Iraq http://dbpedia.org/resource/Baghdad\n",
      "http://dbpedia.org/resource/Ireland None\n",
      "http://dbpedia.org/resource/Italy http://dbpedia.org/resource/Rome\n",
      "http://dbpedia.org/resource/Jamaica http://dbpedia.org/resource/Kingston,_Jamaica\n",
      "http://dbpedia.org/resource/Japan http://dbpedia.org/resource/Tokyo\n",
      "http://dbpedia.org/resource/Jordan http://dbpedia.org/resource/Amman\n",
      "http://dbpedia.org/resource/Kazakhstan http://dbpedia.org/resource/Astana\n",
      "http://dbpedia.org/resource/Kenya http://dbpedia.org/resource/Nairobi\n",
      "http://dbpedia.org/resource/Laos http://dbpedia.org/resource/Vientiane\n",
      "http://dbpedia.org/resource/Latvia http://dbpedia.org/resource/Riga\n",
      "http://dbpedia.org/resource/Lebanon http://dbpedia.org/resource/Beirut\n",
      "http://dbpedia.org/resource/Liberia http://dbpedia.org/resource/Monrovia\n",
      "http://dbpedia.org/resource/Libya http://dbpedia.org/resource/Tripoli,_Libya\n",
      "http://dbpedia.org/resource/Liechtenstein http://dbpedia.org/resource/Vaduz\n",
      "http://dbpedia.org/resource/Lithuania http://dbpedia.org/resource/Vilnius\n",
      "http://dbpedia.org/resource/Luxembourg http://dbpedia.org/resource/Luxembourg_City\n",
      "http://dbpedia.org/resource/Macedonia_(region) None\n",
      "http://dbpedia.org/resource/Madagascar http://dbpedia.org/resource/Antananarivo\n",
      "http://dbpedia.org/resource/Malawi http://dbpedia.org/resource/Lilongwe\n",
      "http://dbpedia.org/resource/Malaysia http://dbpedia.org/resource/Putrajaya\n",
      "http://dbpedia.org/resource/Mali http://dbpedia.org/resource/Bamako\n",
      "http://dbpedia.org/resource/Malta http://dbpedia.org/resource/Valletta\n",
      "http://dbpedia.org/resource/Mauritania http://dbpedia.org/resource/Nouakchott\n",
      "http://dbpedia.org/resource/Moldova http://dbpedia.org/resource/Chișinău\n",
      "http://dbpedia.org/resource/Montenegro http://dbpedia.org/resource/Podgorica\n",
      "http://dbpedia.org/resource/Morocco http://dbpedia.org/resource/Rabat\n",
      "http://dbpedia.org/resource/Mozambique http://dbpedia.org/resource/Maputo\n",
      "http://dbpedia.org/resource/Namibia http://dbpedia.org/resource/Windhoek\n",
      "http://dbpedia.org/resource/Niger http://dbpedia.org/resource/Niamey\n",
      "http://dbpedia.org/resource/Nigeria http://dbpedia.org/resource/Abuja\n",
      "http://dbpedia.org/resource/Norway http://dbpedia.org/resource/Oslo\n",
      "http://dbpedia.org/resource/Pakistan http://dbpedia.org/resource/Islamabad\n",
      "http://dbpedia.org/resource/Peru http://dbpedia.org/resource/Lima\n",
      "http://dbpedia.org/resource/Philippines http://dbpedia.org/resource/Manila\n",
      "http://dbpedia.org/resource/Poland http://dbpedia.org/resource/Warsaw\n",
      "http://dbpedia.org/resource/Portugal http://dbpedia.org/resource/Lisbon\n",
      "http://dbpedia.org/resource/Qatar http://dbpedia.org/resource/Doha\n",
      "http://dbpedia.org/resource/Romania http://dbpedia.org/resource/Bucharest\n",
      "http://dbpedia.org/resource/Rome None\n",
      "http://dbpedia.org/resource/Russia http://dbpedia.org/resource/Moscow\n",
      "http://dbpedia.org/resource/Rwanda http://dbpedia.org/resource/Kigali\n",
      "http://dbpedia.org/resource/Samoa http://dbpedia.org/resource/Apia\n",
      "http://dbpedia.org/resource/Singapore http://dbpedia.org/resource/City-state\n",
      "http://dbpedia.org/resource/Slovakia http://dbpedia.org/resource/Bratislava\n",
      "http://dbpedia.org/resource/Slovenia http://dbpedia.org/resource/Ljubljana\n",
      "http://dbpedia.org/resource/Somalia http://dbpedia.org/resource/Mogadishu\n",
      "http://dbpedia.org/resource/Spain http://dbpedia.org/resource/Madrid\n",
      "http://dbpedia.org/resource/Sudan http://dbpedia.org/resource/Khartoum\n",
      "http://dbpedia.org/resource/Suriname http://dbpedia.org/resource/Paramaribo\n",
      "http://dbpedia.org/resource/Sweden http://dbpedia.org/resource/Stockholm\n",
      "http://dbpedia.org/resource/Switzerland http://dbpedia.org/resource/Bern\n",
      "http://dbpedia.org/resource/Syria http://dbpedia.org/resource/Damascus\n",
      "http://dbpedia.org/resource/Taiwan http://dbpedia.org/resource/Taipei\n",
      "http://dbpedia.org/resource/Tajikistan http://dbpedia.org/resource/Dushanbe\n",
      "http://dbpedia.org/resource/Thailand http://dbpedia.org/resource/Bangkok\n",
      "http://dbpedia.org/resource/The_Bahamas http://dbpedia.org/resource/Nassau,_Bahamas\n",
      "http://dbpedia.org/resource/The_Gambia http://dbpedia.org/resource/Banjul\n",
      "http://dbpedia.org/resource/Tunisia http://dbpedia.org/resource/Tunis\n",
      "http://dbpedia.org/resource/Turkey http://dbpedia.org/resource/Ankara\n",
      "http://dbpedia.org/resource/Turkmenistan http://dbpedia.org/resource/Ashgabat\n",
      "http://dbpedia.org/resource/Tuvalu http://dbpedia.org/resource/Funafuti\n",
      "http://dbpedia.org/resource/Uganda http://dbpedia.org/resource/Kampala\n",
      "http://dbpedia.org/resource/Ukraine http://dbpedia.org/resource/Kyiv\n",
      "http://dbpedia.org/resource/United_States http://dbpedia.org/resource/Washington,_D.C.\n",
      "http://dbpedia.org/resource/Uruguay http://dbpedia.org/resource/Montevideo\n",
      "http://dbpedia.org/resource/Uzbekistan http://dbpedia.org/resource/Tashkent\n",
      "http://dbpedia.org/resource/Venezuela http://dbpedia.org/resource/Caracas\n",
      "http://dbpedia.org/resource/Vietnam http://dbpedia.org/resource/Hanoi\n"
     ]
    }
   ],
   "source": [
    "final_countries = []\n",
    "final_cities = []\n",
    "final_city_ix = []\n",
    "final_country_ix = []\n",
    "\n",
    "for city,country,city_index in zip(ents[city_boolean_mask],countries,city_ix):\n",
    "    print(city,country)\n",
    "    if country and country in ents:\n",
    "\n",
    "        country_index = np.where(country  == ents)[0]\n",
    "\n",
    "        final_countries.append(country)\n",
    "        final_cities.append(city)\n",
    "        final_country_ix.append(country_index)\n",
    "        final_city_ix.append(city_index)\n",
    "        \n",
    "\n",
    "        \n",
    "        \n",
    "        \n",
    "        "
   ]
  },
  {
   "cell_type": "code",
   "execution_count": 21,
   "id": "0e3807a8-9df5-4cd8-9f0b-a78fc6747e93",
   "metadata": {},
   "outputs": [],
   "source": [
    "import sklearn.manifold"
   ]
  },
  {
   "cell_type": "code",
   "execution_count": 22,
   "id": "0b2a2a4b-f9a1-4c4e-b405-9b8859cf432e",
   "metadata": {},
   "outputs": [],
   "source": [
    "reducer = sklearn.manifold.TSNE(learning_rate='auto',init='pca').fit_transform"
   ]
  },
  {
   "cell_type": "code",
   "execution_count": 23,
   "id": "807313b7-5aa5-4b99-b105-fc101dd03c0e",
   "metadata": {},
   "outputs": [
    {
     "data": {
      "text/plain": [
       "(4330, 50)"
      ]
     },
     "execution_count": 23,
     "metadata": {},
     "output_type": "execute_result"
    }
   ],
   "source": [
    "vecs.shape"
   ]
  },
  {
   "cell_type": "code",
   "execution_count": 24,
   "id": "ca287306-7111-435b-995b-99921e4a641a",
   "metadata": {},
   "outputs": [],
   "source": [
    "red = reducer(vecs)"
   ]
  },
  {
   "cell_type": "code",
   "execution_count": 25,
   "id": "88e72ff6-cf81-4f98-96ac-ec4b26756d5d",
   "metadata": {},
   "outputs": [],
   "source": [
    "import plotly.express as px"
   ]
  },
  {
   "cell_type": "code",
   "execution_count": 26,
   "id": "90a88634-00df-4b63-a0d8-0b8283c114f6",
   "metadata": {},
   "outputs": [],
   "source": [
    "final_country_ix = [int(x) for x in final_country_ix]"
   ]
  },
  {
   "cell_type": "code",
   "execution_count": 27,
   "id": "19a4cfee-e75e-45fd-a5ac-e69231da8f74",
   "metadata": {},
   "outputs": [],
   "source": [
    "final_country_ix = final_country_ix[0:20]\n",
    "final_city_ix = final_city_ix[0:20]"
   ]
  },
  {
   "cell_type": "code",
   "execution_count": 28,
   "id": "e751c533-cb7b-419d-8277-4c663db03789",
   "metadata": {},
   "outputs": [
    {
     "name": "stdout",
     "output_type": "stream",
     "text": [
      "Opening in existing browser session.\n"
     ]
    }
   ],
   "source": [
    "import plotly.graph_objects as go\n",
    "\n",
    "figs = []\n",
    "\n",
    "# plot everything else\n",
    "\n",
    "fig = go.Scatter(x=np.delete(red, final_city_ix + final_country_ix, axis=0)[:, 0],\n",
    "                 y=np.delete(red, final_city_ix + final_country_ix, axis=0)[:, 1], mode=\"markers\", showlegend=False,\n",
    "                 marker=dict(color='#003f5c',size=1))\n",
    "figs.append(fig)\n",
    "\n",
    "# plot lines for city - > country\n",
    "for city_ix, country_ix in zip(final_city_ix, final_country_ix):\n",
    "    fig = go.Scatter(x=[red[city_ix][0], red[country_ix][0]], y=[red[city_ix][1], red[country_ix][1]], mode=\"lines\",\n",
    "                     showlegend=False, marker=dict(color='#7a5195',size=3))\n",
    "\n",
    "    # fig.update_traces(line=(dict(color='blue')))\n",
    "\n",
    "    figs.append(fig)\n",
    "\n",
    "# plot city markers\n",
    "fig = go.Scatter(x=red[final_city_ix][:, 0], y=red[final_city_ix][:, 1], mode=\"markers\",\n",
    "                 marker=dict(size=4, color='#ef5675'), name=\"countries\")\n",
    "figs.append(fig)\n",
    "\n",
    "# plot country markers\n",
    "fig = go.Scatter(x=red[final_country_ix][:, 0], y=red[final_country_ix][:, 1], mode=\"markers\",\n",
    "                 marker=dict(size=4, color='#ffa600'), name=\"cities\")\n",
    "figs.append(fig)\n",
    "\n",
    "fig3 = go.Figure(data=figs)\n",
    "#fig3.update_xaxes(range=(-60, 60), )\n",
    "\n",
    "fig3.update_layout(legend=dict(title_font_family=\"Times New Roman\",\n",
    "                               font=dict(size=30)\n",
    "                               ))\n",
    "fig3.show(renderer='browser')\n",
    "fig3.write_image(f'{file}_lines.pdf')"
   ]
  }
 ],
 "metadata": {
  "kernelspec": {
   "display_name": "stdpy_new",
   "language": "python",
   "name": "stdpy_new"
  },
  "language_info": {
   "codemirror_mode": {
    "name": "ipython",
    "version": 3
   },
   "file_extension": ".py",
   "mimetype": "text/x-python",
   "name": "python",
   "nbconvert_exporter": "python",
   "pygments_lexer": "ipython3",
   "version": "3.11.3"
  }
 },
 "nbformat": 4,
 "nbformat_minor": 5
}
